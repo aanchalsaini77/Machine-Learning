{
 "cells": [
  {
   "cell_type": "raw",
   "id": "fd7f0b62",
   "metadata": {},
   "source": [
    "classID:\n",
    "A numeric identifier of the sound class:\n",
    "0 = air_conditioner\n",
    "1 = car_horn\n",
    "2 = children_playing\n",
    "3 = dog_bark\n",
    "4 = drilling\n",
    "5 = engine_idling\n",
    "6 = gun_shot\n",
    "7 = jackhammer\n",
    "8 = siren\n",
    "9 = street_music"
   ]
  },
  {
   "cell_type": "code",
   "execution_count": null,
   "id": "80f19309",
   "metadata": {},
   "outputs": [],
   "source": [
    "import os\n",
    "import numpy as np\n",
    "import pandas as pd\n",
    "import librosa\n",
    "from sklearn.model_selection import train_test_split\n",
    "from sklearn.neighbors import KNeighborsClassifier\n",
    "from sklearn.metrics import confusion_matrix, accuracy_score\n",
    "from sklearn.ensemble import RandomForestClassifier\n",
    "from sklearn.svm import SVC\n",
    "from sklearn.tree import DecisionTreeClassifier\n",
    "from keras.models import Sequential\n",
    "from keras.layers import Dense, Dropout\n",
    "from keras.optimizers import Adam\n",
    "from keras.utils import to_categorical\n",
    "from sklearn.metrics import confusion_matrix, accuracy_score"
   ]
  },
  {
   "cell_type": "code",
   "execution_count": null,
   "id": "1c70e008",
   "metadata": {},
   "outputs": [],
   "source": [
    "# Load the metadata CSV file\n",
    "metadata_path = '8k.csv'\n",
    "metadata = pd.read_csv(metadata_path)"
   ]
  },
  {
   "cell_type": "code",
   "execution_count": null,
   "id": "aa6d36b7",
   "metadata": {},
   "outputs": [],
   "source": [
    "metadata"
   ]
  },
  {
   "cell_type": "code",
   "execution_count": null,
   "id": "3ad2bbb7",
   "metadata": {},
   "outputs": [],
   "source": [
    "# Load audio data and extract features\n",
    "def extract_features(file_path):\n",
    "    audio_data, _ = librosa.load(file_path, res_type='kaiser_fast')\n",
    "    # Perform Fourier transform\n",
    "    stft = np.abs(librosa.stft(audio_data))\n",
    "    stft_scaled = np.mean(stft, axis=1)\n",
    "    return stft_scaled"
   ]
  },
  {
   "cell_type": "code",
   "execution_count": null,
   "id": "cd406ba1",
   "metadata": {},
   "outputs": [],
   "source": [
    "# Preprocess audio and extract features for all files\n",
    "features = []\n",
    "labels = []"
   ]
  },
  {
   "cell_type": "code",
   "execution_count": null,
   "id": "9abab712",
   "metadata": {},
   "outputs": [],
   "source": [
    "audio_folder = 'audio'"
   ]
  },
  {
   "cell_type": "code",
   "execution_count": null,
   "id": "2cef7165",
   "metadata": {},
   "outputs": [],
   "source": [
    "for folder in os.listdir(audio_folder):\n",
    "    if folder.startswith('fold'):\n",
    "        folder_path = os.path.join(audio_folder, folder)\n",
    "        for file in os.listdir(folder_path):\n",
    "            if file.endswith('.wav'):\n",
    "                file_path = os.path.join(folder_path, file)\n",
    "                class_id = int(file.split('-')[1])\n",
    "                features.append(extract_features(file_path))\n",
    "                labels.append(class_id)"
   ]
  },
  {
   "cell_type": "code",
   "execution_count": null,
   "id": "cbef31d1",
   "metadata": {},
   "outputs": [],
   "source": [
    "# Convert features and labels to numpy arrays\n",
    "X = np.array(features) \n",
    "y = np.array(labels)"
   ]
  },
  {
   "cell_type": "code",
   "execution_count": null,
   "id": "97e115d1",
   "metadata": {},
   "outputs": [],
   "source": [
    "# Split the data into training and testing sets\n",
    "X_train, X_test, y_train, y_test = train_test_split(X, y, test_size=0.2, random_state=42)"
   ]
  },
  {
   "cell_type": "markdown",
   "id": "56fcd992",
   "metadata": {},
   "source": [
    "# Using KNN, Neighbours = 3 and Metric = cosine"
   ]
  },
  {
   "cell_type": "code",
   "execution_count": null,
   "id": "21bca4e1",
   "metadata": {},
   "outputs": [],
   "source": [
    "# Perform classification using KNN, metric = cosine and neighbours = 3\n",
    "knn1 = KNeighborsClassifier(n_neighbors=3, metric='cosine')\n",
    "knn1.fit(X_train, y_train)"
   ]
  },
  {
   "cell_type": "code",
   "execution_count": null,
   "id": "34c48b4b",
   "metadata": {},
   "outputs": [],
   "source": [
    "# Make predictions on the test set\n",
    "y_pred = knn1.predict(X_test)"
   ]
  },
  {
   "cell_type": "code",
   "execution_count": null,
   "id": "ad0d485b",
   "metadata": {},
   "outputs": [],
   "source": [
    "# Calculate and print the classification matrix\n",
    "conf_matrix = confusion_matrix(y_test, y_pred)\n",
    "print(\"Classification Matrix:\")\n",
    "print(conf_matrix)"
   ]
  },
  {
   "cell_type": "code",
   "execution_count": null,
   "id": "15818d59",
   "metadata": {},
   "outputs": [],
   "source": [
    "# Calculate and print the accuracy\n",
    "accuracy = accuracy_score(y_test, y_pred)\n",
    "print(\"Accuracy:\", accuracy)"
   ]
  },
  {
   "cell_type": "code",
   "execution_count": null,
   "id": "c7964daa",
   "metadata": {
    "scrolled": true
   },
   "outputs": [],
   "source": [
    "# Load the audio file to predict its class\n",
    "audio_file = 'mixkit-ambulance-siren-passing-by-1650.wav'\n",
    "audio_features = extract_features(audio_file)\n",
    "\n",
    "# Reshape the audio features to match the shape expected by the classifier\n",
    "audio_features = audio_features.reshape(1, -1)\n",
    "\n",
    "# Predict the class of the audio file\n",
    "predicted_class = knn1.predict(audio_features)[0]\n",
    "print(\"Predicted class:\", predicted_class)"
   ]
  },
  {
   "cell_type": "markdown",
   "id": "4eb0f4b2",
   "metadata": {},
   "source": [
    "# Using KNN, Neighbours = 3 and Metric = euclidean"
   ]
  },
  {
   "cell_type": "code",
   "execution_count": null,
   "id": "aa27d1b3",
   "metadata": {},
   "outputs": [],
   "source": [
    "# Perform classification using KNN, metric = euclidean, neighbors = 3\n",
    "knn2 = KNeighborsClassifier(n_neighbors=3, metric='euclidean')\n",
    "knn2.fit(X_train, y_train)"
   ]
  },
  {
   "cell_type": "code",
   "execution_count": null,
   "id": "5c865f07",
   "metadata": {},
   "outputs": [],
   "source": [
    "# Make predictions on the test set\n",
    "y_pred = knn2.predict(X_test)"
   ]
  },
  {
   "cell_type": "code",
   "execution_count": null,
   "id": "05736268",
   "metadata": {},
   "outputs": [],
   "source": [
    "# Calculate and print the classification matrix\n",
    "conf_matrix = confusion_matrix(y_test, y_pred)\n",
    "print(\"Classification Matrix:\")\n",
    "print(conf_matrix)"
   ]
  },
  {
   "cell_type": "code",
   "execution_count": null,
   "id": "1dca3a63",
   "metadata": {},
   "outputs": [],
   "source": [
    "# Calculate and print the accuracy\n",
    "accuracy = accuracy_score(y_test, y_pred)\n",
    "print(\"Accuracy:\", accuracy)"
   ]
  },
  {
   "cell_type": "code",
   "execution_count": null,
   "id": "509d42e2",
   "metadata": {},
   "outputs": [],
   "source": [
    "# Load the audio file to predict its class\n",
    "audio_file = 'mixkit-ambulance-siren-passing-by-1650.wav'\n",
    "audio_features = extract_features(audio_file)\n",
    "\n",
    "# Reshape the audio features to match the shape expected by the classifier\n",
    "audio_features = audio_features.reshape(1, -1)\n",
    "\n",
    "# Predict the class of the audio file\n",
    "predicted_class = knn2.predict(audio_features)[0]\n",
    "print(\"Predicted class:\", predicted_class)"
   ]
  },
  {
   "cell_type": "markdown",
   "id": "de39036e",
   "metadata": {},
   "source": [
    "# Using KNN, Neighbours = 3 and Metric = chebyshev"
   ]
  },
  {
   "cell_type": "code",
   "execution_count": null,
   "id": "718cae08",
   "metadata": {},
   "outputs": [],
   "source": [
    "# Perform classification using KNN, metric = chebyshev , neighbors = 3\n",
    "knn3 = KNeighborsClassifier(n_neighbors=3, metric='chebyshev')\n",
    "knn3.fit(X_train, y_train)"
   ]
  },
  {
   "cell_type": "code",
   "execution_count": null,
   "id": "19166d60",
   "metadata": {},
   "outputs": [],
   "source": [
    "# Make predictions on the test set\n",
    "y_pred = knn3.predict(X_test)"
   ]
  },
  {
   "cell_type": "code",
   "execution_count": null,
   "id": "d27d9c18",
   "metadata": {},
   "outputs": [],
   "source": [
    "# Calculate and print the classification matrix\n",
    "conf_matrix = confusion_matrix(y_test, y_pred)\n",
    "print(\"Classification Matrix:\")\n",
    "print(conf_matrix)"
   ]
  },
  {
   "cell_type": "code",
   "execution_count": null,
   "id": "65357201",
   "metadata": {},
   "outputs": [],
   "source": [
    "# Calculate and print the accuracy\n",
    "accuracy = accuracy_score(y_test, y_pred)\n",
    "print(\"Accuracy:\", accuracy)"
   ]
  },
  {
   "cell_type": "code",
   "execution_count": null,
   "id": "6e3f673a",
   "metadata": {},
   "outputs": [],
   "source": [
    "# Load the audio file to predict its class\n",
    "audio_file = 'mixkit-ambulance-siren-passing-by-1650.wav'\n",
    "audio_features = extract_features(audio_file)\n",
    "\n",
    "# Reshape the audio features to match the shape expected by the classifier\n",
    "audio_features = audio_features.reshape(1, -1)\n",
    "\n",
    "# Predict the class of the audio file\n",
    "predicted_class = knn3.predict(audio_features)[0]\n",
    "print(\"Predicted class:\", predicted_class)"
   ]
  },
  {
   "cell_type": "markdown",
   "id": "9bb1e6d3",
   "metadata": {},
   "source": [
    "# Using KNN, Neighbours = 2 and Metric = cosine"
   ]
  },
  {
   "cell_type": "code",
   "execution_count": null,
   "id": "a5d4de25",
   "metadata": {},
   "outputs": [],
   "source": [
    "# Perform classification using KNN, metric = cosine and neighbours = 2\n",
    "knn4 = KNeighborsClassifier(n_neighbors=2, metric='cosine')\n",
    "knn4.fit(X_train, y_train)"
   ]
  },
  {
   "cell_type": "code",
   "execution_count": null,
   "id": "03b58b43",
   "metadata": {},
   "outputs": [],
   "source": [
    "# Make predictions on the test set\n",
    "y_pred = knn4.predict(X_test)"
   ]
  },
  {
   "cell_type": "code",
   "execution_count": null,
   "id": "6c3b35c8",
   "metadata": {},
   "outputs": [],
   "source": [
    "# Calculate and print the classification matrix\n",
    "conf_matrix = confusion_matrix(y_test, y_pred)\n",
    "print(\"Classification Matrix:\")\n",
    "print(conf_matrix)"
   ]
  },
  {
   "cell_type": "code",
   "execution_count": null,
   "id": "e2d3cb5f",
   "metadata": {},
   "outputs": [],
   "source": [
    "# Calculate and print the accuracy\n",
    "accuracy = accuracy_score(y_test, y_pred)\n",
    "print(\"Accuracy:\", accuracy)"
   ]
  },
  {
   "cell_type": "code",
   "execution_count": null,
   "id": "ba520226",
   "metadata": {},
   "outputs": [],
   "source": [
    "# Load the audio file to predict its class\n",
    "audio_file = 'mixkit-ambulance-siren-passing-by-1650.wav'\n",
    "audio_features = extract_features(audio_file)\n",
    "\n",
    "# Reshape the audio features to match the shape expected by the classifier\n",
    "audio_features = audio_features.reshape(1, -1)\n",
    "\n",
    "# Predict the class of the audio file\n",
    "predicted_class = knn4.predict(audio_features)[0]\n",
    "print(\"Predicted class:\", predicted_class)"
   ]
  },
  {
   "cell_type": "markdown",
   "id": "2db35915",
   "metadata": {},
   "source": [
    "# Using KNN, Neighbours = 2 and Metric = euclidean"
   ]
  },
  {
   "cell_type": "code",
   "execution_count": null,
   "id": "c71d41f8",
   "metadata": {},
   "outputs": [],
   "source": [
    "# Perform classification using KNN, metric = euclidean, neighbors = 2\n",
    "knn5 = KNeighborsClassifier(n_neighbors=2, metric='euclidean')\n",
    "knn5.fit(X_train, y_train)"
   ]
  },
  {
   "cell_type": "code",
   "execution_count": null,
   "id": "3381a0ef",
   "metadata": {},
   "outputs": [],
   "source": [
    "# Make predictions on the test set\n",
    "y_pred = knn5.predict(X_test)"
   ]
  },
  {
   "cell_type": "code",
   "execution_count": null,
   "id": "ca18c0e9",
   "metadata": {},
   "outputs": [],
   "source": [
    "# Calculate and print the classification matrix\n",
    "conf_matrix = confusion_matrix(y_test, y_pred)\n",
    "print(\"Classification Matrix:\")\n",
    "print(conf_matrix)"
   ]
  },
  {
   "cell_type": "code",
   "execution_count": null,
   "id": "41b90514",
   "metadata": {},
   "outputs": [],
   "source": [
    "# Calculate and print the accuracy\n",
    "accuracy = accuracy_score(y_test, y_pred)\n",
    "print(\"Accuracy:\", accuracy)"
   ]
  },
  {
   "cell_type": "code",
   "execution_count": null,
   "id": "f346f077",
   "metadata": {},
   "outputs": [],
   "source": [
    "# Load the audio file to predict its class\n",
    "audio_file = 'mixkit-ambulance-siren-passing-by-1650.wav'\n",
    "audio_features = extract_features(audio_file)\n",
    "\n",
    "# Reshape the audio features to match the shape expected by the classifier\n",
    "audio_features = audio_features.reshape(1, -1)\n",
    "\n",
    "# Predict the class of the audio file\n",
    "predicted_class = knn5.predict(audio_features)[0]\n",
    "print(\"Predicted class:\", predicted_class)"
   ]
  },
  {
   "cell_type": "markdown",
   "id": "701fd718",
   "metadata": {},
   "source": [
    "# Using KNN, Neighbours = 2 and Metric = chebyshev"
   ]
  },
  {
   "cell_type": "code",
   "execution_count": null,
   "id": "c8257f80",
   "metadata": {},
   "outputs": [],
   "source": [
    "# Perform classification using KNN, metric = chebyshev , neighbors = 2\n",
    "knn6 = KNeighborsClassifier(n_neighbors=2, metric='chebyshev')\n",
    "knn6.fit(X_train, y_train)"
   ]
  },
  {
   "cell_type": "code",
   "execution_count": null,
   "id": "4a76e2cc",
   "metadata": {},
   "outputs": [],
   "source": [
    "# Make predictions on the test set\n",
    "y_pred = knn6.predict(X_test)"
   ]
  },
  {
   "cell_type": "code",
   "execution_count": null,
   "id": "1099950f",
   "metadata": {},
   "outputs": [],
   "source": [
    "# Calculate and print the classification matrix\n",
    "conf_matrix = confusion_matrix(y_test, y_pred)\n",
    "print(\"Classification Matrix:\")\n",
    "print(conf_matrix)"
   ]
  },
  {
   "cell_type": "code",
   "execution_count": null,
   "id": "ebaf3fd8",
   "metadata": {},
   "outputs": [],
   "source": [
    "# Calculate and print the accuracy\n",
    "accuracy = accuracy_score(y_test, y_pred)\n",
    "print(\"Accuracy:\", accuracy)"
   ]
  },
  {
   "cell_type": "code",
   "execution_count": null,
   "id": "bbb2ce64",
   "metadata": {},
   "outputs": [],
   "source": [
    "# Load the audio file to predict its class\n",
    "audio_file = 'mixkit-ambulance-siren-passing-by-1650.wav'\n",
    "audio_features = extract_features(audio_file)\n",
    "\n",
    "# Reshape the audio features to match the shape expected by the classifier\n",
    "audio_features = audio_features.reshape(1, -1)\n",
    "\n",
    "# Predict the class of the audio file\n",
    "predicted_class = knn6.predict(audio_features)[0]\n",
    "print(\"Predicted class:\", predicted_class)"
   ]
  },
  {
   "cell_type": "markdown",
   "id": "f721d263",
   "metadata": {},
   "source": [
    "# Using KNN, Neighbours = 1 and Metric = cosine"
   ]
  },
  {
   "cell_type": "code",
   "execution_count": null,
   "id": "185e5f6d",
   "metadata": {},
   "outputs": [],
   "source": [
    "# Perform classification using KNN, metric = cosine and neighbours = 1\n",
    "knn7 = KNeighborsClassifier(n_neighbors=1, metric='cosine')\n",
    "knn7.fit(X_train, y_train)"
   ]
  },
  {
   "cell_type": "code",
   "execution_count": null,
   "id": "d56d1445",
   "metadata": {},
   "outputs": [],
   "source": [
    "# Make predictions on the test set\n",
    "y_pred = knn7.predict(X_test)"
   ]
  },
  {
   "cell_type": "code",
   "execution_count": null,
   "id": "1fcdb8dc",
   "metadata": {},
   "outputs": [],
   "source": [
    "# Calculate and print the classification matrix\n",
    "conf_matrix = confusion_matrix(y_test, y_pred)\n",
    "print(\"Classification Matrix:\")\n",
    "print(conf_matrix)"
   ]
  },
  {
   "cell_type": "code",
   "execution_count": null,
   "id": "e1a3186c",
   "metadata": {},
   "outputs": [],
   "source": [
    "# Calculate and print the accuracy\n",
    "accuracy = accuracy_score(y_test, y_pred)\n",
    "print(\"Accuracy:\", accuracy)"
   ]
  },
  {
   "cell_type": "code",
   "execution_count": null,
   "id": "eb8a528f",
   "metadata": {},
   "outputs": [],
   "source": [
    "# Load the audio file to predict its class\n",
    "audio_file = 'mixkit-ambulance-siren-passing-by-1650.wav'\n",
    "audio_features = extract_features(audio_file)\n",
    "\n",
    "# Reshape the audio features to match the shape expected by the classifier\n",
    "audio_features = audio_features.reshape(1, -1)\n",
    "\n",
    "# Predict the class of the audio file\n",
    "predicted_class = knn7.predict(audio_features)[0]\n",
    "print(\"Predicted class:\", predicted_class)"
   ]
  },
  {
   "cell_type": "markdown",
   "id": "ae6ed42e",
   "metadata": {},
   "source": [
    "# Using KNN, Neighbours = 1 and Metric = euclidean"
   ]
  },
  {
   "cell_type": "code",
   "execution_count": null,
   "id": "4a830ac0",
   "metadata": {},
   "outputs": [],
   "source": [
    "# Perform classification using KNN, metric = cosine and neighbours = 1\n",
    "knn8 = KNeighborsClassifier(n_neighbors=1, metric='euclidean')\n",
    "knn8.fit(X_train, y_train)"
   ]
  },
  {
   "cell_type": "code",
   "execution_count": null,
   "id": "d489da95",
   "metadata": {},
   "outputs": [],
   "source": [
    "# Make predictions on the test set\n",
    "y_pred = knn8.predict(X_test)"
   ]
  },
  {
   "cell_type": "code",
   "execution_count": null,
   "id": "eec497a6",
   "metadata": {},
   "outputs": [],
   "source": [
    "# Calculate and print the classification matrix\n",
    "conf_matrix = confusion_matrix(y_test, y_pred)\n",
    "print(\"Classification Matrix:\")\n",
    "print(conf_matrix)"
   ]
  },
  {
   "cell_type": "code",
   "execution_count": null,
   "id": "e934a57b",
   "metadata": {},
   "outputs": [],
   "source": [
    "# Calculate and print the accuracy\n",
    "accuracy = accuracy_score(y_test, y_pred)\n",
    "print(\"Accuracy:\", accuracy)"
   ]
  },
  {
   "cell_type": "code",
   "execution_count": null,
   "id": "3554d136",
   "metadata": {},
   "outputs": [],
   "source": [
    "# Load the audio file to predict its class\n",
    "audio_file = 'mixkit-ambulance-siren-passing-by-1650.wav'\n",
    "audio_features = extract_features(audio_file)\n",
    "\n",
    "# Reshape the audio features to match the shape expected by the classifier\n",
    "audio_features = audio_features.reshape(1, -1)\n",
    "\n",
    "# Predict the class of the audio file\n",
    "predicted_class = knn8.predict(audio_features)[0]\n",
    "print(\"Predicted class:\", predicted_class)"
   ]
  },
  {
   "cell_type": "markdown",
   "id": "27a93b01",
   "metadata": {},
   "source": [
    "# Using KNN, Neighbours = 1 and Metric = chebyshev"
   ]
  },
  {
   "cell_type": "code",
   "execution_count": null,
   "id": "f9173d62",
   "metadata": {},
   "outputs": [],
   "source": [
    "# Perform classification using KNN, metric = chebyshev , neighbors = 1\n",
    "knn9 = KNeighborsClassifier(n_neighbors=1, metric='chebyshev')\n",
    "knn9.fit(X_train, y_train)"
   ]
  },
  {
   "cell_type": "code",
   "execution_count": null,
   "id": "beb5064e",
   "metadata": {},
   "outputs": [],
   "source": [
    "# Make predictions on the test set\n",
    "y_pred = knn9.predict(X_test)"
   ]
  },
  {
   "cell_type": "code",
   "execution_count": null,
   "id": "a0f1487d",
   "metadata": {},
   "outputs": [],
   "source": [
    "# Calculate and print the classification matrix\n",
    "conf_matrix = confusion_matrix(y_test, y_pred)\n",
    "print(\"Classification Matrix:\")\n",
    "print(conf_matrix)"
   ]
  },
  {
   "cell_type": "code",
   "execution_count": null,
   "id": "18138cb7",
   "metadata": {},
   "outputs": [],
   "source": [
    "# Calculate and print the accuracy\n",
    "accuracy = accuracy_score(y_test, y_pred)\n",
    "print(\"Accuracy:\", accuracy)"
   ]
  },
  {
   "cell_type": "code",
   "execution_count": null,
   "id": "0616fd16",
   "metadata": {},
   "outputs": [],
   "source": [
    "# Load the audio file to predict its class\n",
    "audio_file = 'mixkit-ambulance-siren-passing-by-1650.wav'\n",
    "audio_features = extract_features(audio_file)\n",
    "\n",
    "# Reshape the audio features to match the shape expected by the classifier\n",
    "audio_features = audio_features.reshape(1, -1)\n",
    "\n",
    "# Predict the class of the audio file\n",
    "predicted_class = knn9.predict(audio_features)[0]\n",
    "print(\"Predicted class:\", predicted_class)"
   ]
  },
  {
   "cell_type": "markdown",
   "id": "0d9a4c51",
   "metadata": {},
   "source": [
    "# Using KNN, Neighbours =  4 Metric = cosine"
   ]
  },
  {
   "cell_type": "code",
   "execution_count": null,
   "id": "954a89a9",
   "metadata": {},
   "outputs": [],
   "source": [
    "# Perform classification using KNN, metric = cosine , neighbors = 4\n",
    "knn10 = KNeighborsClassifier(n_neighbors=4, metric='cosine')\n",
    "knn10.fit(X_train, y_train)"
   ]
  },
  {
   "cell_type": "code",
   "execution_count": null,
   "id": "454dd6ef",
   "metadata": {},
   "outputs": [],
   "source": [
    "# Make predictions on the test set\n",
    "y_pred = knn10.predict(X_test)"
   ]
  },
  {
   "cell_type": "code",
   "execution_count": null,
   "id": "897e6939",
   "metadata": {},
   "outputs": [],
   "source": [
    "# Calculate and print the classification matrix\n",
    "conf_matrix = confusion_matrix(y_test, y_pred)\n",
    "print(\"Classification Matrix:\")\n",
    "print(conf_matrix)"
   ]
  },
  {
   "cell_type": "code",
   "execution_count": null,
   "id": "89cdb664",
   "metadata": {},
   "outputs": [],
   "source": [
    "# Calculate and print the accuracy\n",
    "accuracy = accuracy_score(y_test, y_pred)\n",
    "print(\"Accuracy:\", accuracy)"
   ]
  },
  {
   "cell_type": "code",
   "execution_count": null,
   "id": "979b8ab5",
   "metadata": {},
   "outputs": [],
   "source": [
    "# Load the audio file to predict its class\n",
    "audio_file = 'mixkit-ambulance-siren-passing-by-1650.wav'\n",
    "audio_features = extract_features(audio_file)\n",
    "\n",
    "# Reshape the audio features to match the shape expected by the classifier\n",
    "audio_features = audio_features.reshape(1, -1)\n",
    "\n",
    "# Predict the class of the audio file\n",
    "predicted_class = knn10.predict(audio_features)[0]\n",
    "print(\"Predicted class:\", predicted_class)"
   ]
  },
  {
   "cell_type": "markdown",
   "id": "8ba4e1d7",
   "metadata": {},
   "source": [
    "# Using KNN, Neighbours =  4 Metric = euclidean"
   ]
  },
  {
   "cell_type": "code",
   "execution_count": null,
   "id": "8bf50af8",
   "metadata": {},
   "outputs": [],
   "source": [
    "# Perform classification using KNN, metric = euclidean , neighbors = 4\n",
    "knn11 = KNeighborsClassifier(n_neighbors=4, metric='euclidean')\n",
    "knn11.fit(X_train, y_train)"
   ]
  },
  {
   "cell_type": "code",
   "execution_count": null,
   "id": "e18c37be",
   "metadata": {},
   "outputs": [],
   "source": [
    "# Make predictions on the test set\n",
    "y_pred = knn11.predict(X_test)"
   ]
  },
  {
   "cell_type": "code",
   "execution_count": null,
   "id": "2f14470b",
   "metadata": {},
   "outputs": [],
   "source": [
    "# Calculate and print the classification matrix\n",
    "conf_matrix = confusion_matrix(y_test, y_pred)\n",
    "print(\"Classification Matrix:\")\n",
    "print(conf_matrix)"
   ]
  },
  {
   "cell_type": "code",
   "execution_count": null,
   "id": "27d831e4",
   "metadata": {},
   "outputs": [],
   "source": [
    "# Calculate and print the accuracy\n",
    "accuracy = accuracy_score(y_test, y_pred)\n",
    "print(\"Accuracy:\", accuracy)"
   ]
  },
  {
   "cell_type": "code",
   "execution_count": null,
   "id": "654fb2cf",
   "metadata": {},
   "outputs": [],
   "source": [
    "# Load the audio file to predict its class\n",
    "audio_file = 'mixkit-ambulance-siren-passing-by-1650.wav'\n",
    "audio_features = extract_features(audio_file)\n",
    "\n",
    "# Reshape the audio features to match the shape expected by the classifier\n",
    "audio_features = audio_features.reshape(1, -1)\n",
    "\n",
    "# Predict the class of the audio file\n",
    "predicted_class = knn11.predict(audio_features)[0]\n",
    "print(\"Predicted class:\", predicted_class)"
   ]
  },
  {
   "cell_type": "markdown",
   "id": "60db5d54",
   "metadata": {},
   "source": [
    "# Using KNN, Neighbours =  4 Metric =  chebyshev"
   ]
  },
  {
   "cell_type": "code",
   "execution_count": null,
   "id": "53d33806",
   "metadata": {},
   "outputs": [],
   "source": [
    "# Perform classification using KNN, metric = chebyshev , neighbors = 4\n",
    "knn12 = KNeighborsClassifier(n_neighbors=1, metric='chebyshev')\n",
    "knn12.fit(X_train, y_train)"
   ]
  },
  {
   "cell_type": "code",
   "execution_count": null,
   "id": "2b4e4446",
   "metadata": {},
   "outputs": [],
   "source": [
    "# Make predictions on the test set\n",
    "y_pred = knn12.predict(X_test)"
   ]
  },
  {
   "cell_type": "code",
   "execution_count": null,
   "id": "cc7d1c4c",
   "metadata": {},
   "outputs": [],
   "source": [
    "# Calculate and print the classification matrix\n",
    "conf_matrix = confusion_matrix(y_test, y_pred)\n",
    "print(\"Classification Matrix:\")\n",
    "print(conf_matrix)"
   ]
  },
  {
   "cell_type": "code",
   "execution_count": null,
   "id": "39afe327",
   "metadata": {},
   "outputs": [],
   "source": [
    "# Calculate and print the accuracy\n",
    "accuracy = accuracy_score(y_test, y_pred)\n",
    "print(\"Accuracy:\", accuracy)"
   ]
  },
  {
   "cell_type": "code",
   "execution_count": null,
   "id": "97652efa",
   "metadata": {},
   "outputs": [],
   "source": [
    "# Load the audio file to predict its class\n",
    "audio_file = 'mixkit-ambulance-siren-passing-by-1650.wav'\n",
    "audio_features = extract_features(audio_file)\n",
    "\n",
    "# Reshape the audio features to match the shape expected by the classifier\n",
    "audio_features = audio_features.reshape(1, -1)\n",
    "\n",
    "# Predict the class of the audio file\n",
    "predicted_class = knn12.predict(audio_features)[0]\n",
    "print(\"Predicted class:\", predicted_class)"
   ]
  },
  {
   "cell_type": "markdown",
   "id": "390dd641",
   "metadata": {},
   "source": [
    "# Using KNN, Neighbours =  5 Metric = cosine"
   ]
  },
  {
   "cell_type": "code",
   "execution_count": null,
   "id": "48c9cc25",
   "metadata": {},
   "outputs": [],
   "source": [
    "# Perform classification using KNN, metric = cosine , neighbors = 5\n",
    "knn13 = KNeighborsClassifier(n_neighbors=5, metric='cosine')\n",
    "knn13.fit(X_train, y_train)"
   ]
  },
  {
   "cell_type": "code",
   "execution_count": null,
   "id": "1a3fe3e4",
   "metadata": {},
   "outputs": [],
   "source": [
    "# Make predictions on the test set\n",
    "y_pred = knn13.predict(X_test)"
   ]
  },
  {
   "cell_type": "code",
   "execution_count": null,
   "id": "2befe054",
   "metadata": {},
   "outputs": [],
   "source": [
    "# Calculate and print the classification matrix\n",
    "conf_matrix = confusion_matrix(y_test, y_pred)\n",
    "print(\"Classification Matrix:\")\n",
    "print(conf_matrix)"
   ]
  },
  {
   "cell_type": "code",
   "execution_count": null,
   "id": "763b9934",
   "metadata": {},
   "outputs": [],
   "source": [
    "# Calculate and print the accuracy\n",
    "accuracy = accuracy_score(y_test, y_pred)\n",
    "print(\"Accuracy:\", accuracy)"
   ]
  },
  {
   "cell_type": "code",
   "execution_count": null,
   "id": "e75d38a4",
   "metadata": {},
   "outputs": [],
   "source": [
    "# Load the audio file to predict its class\n",
    "audio_file = 'mixkit-ambulance-siren-passing-by-1650.wav'\n",
    "audio_features = extract_features(audio_file)\n",
    "\n",
    "# Reshape the audio features to match the shape expected by the classifier\n",
    "audio_features = audio_features.reshape(1, -1)\n",
    "\n",
    "# Predict the class of the audio file\n",
    "predicted_class = knn13.predict(audio_features)[0]\n",
    "print(\"Predicted class:\", predicted_class)"
   ]
  },
  {
   "cell_type": "markdown",
   "id": "f5ab4b15",
   "metadata": {},
   "source": [
    "# Using KNN, Neighbours =  5 Metric = euclidean"
   ]
  },
  {
   "cell_type": "code",
   "execution_count": null,
   "id": "e6faae85",
   "metadata": {},
   "outputs": [],
   "source": [
    "# Perform classification using KNN, metric = euclidean , neighbors = 5\n",
    "knn14 = KNeighborsClassifier(n_neighbors=5, metric='euclidean')\n",
    "knn14.fit(X_train, y_train)"
   ]
  },
  {
   "cell_type": "code",
   "execution_count": null,
   "id": "6cfb499f",
   "metadata": {},
   "outputs": [],
   "source": [
    "# Make predictions on the test set\n",
    "y_pred = knn14.predict(X_test)"
   ]
  },
  {
   "cell_type": "code",
   "execution_count": null,
   "id": "e88876cf",
   "metadata": {},
   "outputs": [],
   "source": [
    "# Calculate and print the classification matrix\n",
    "conf_matrix = confusion_matrix(y_test, y_pred)\n",
    "print(\"Classification Matrix:\")\n",
    "print(conf_matrix)"
   ]
  },
  {
   "cell_type": "code",
   "execution_count": null,
   "id": "4093b431",
   "metadata": {},
   "outputs": [],
   "source": [
    "# Calculate and print the accuracy\n",
    "accuracy = accuracy_score(y_test, y_pred)\n",
    "print(\"Accuracy:\", accuracy)"
   ]
  },
  {
   "cell_type": "code",
   "execution_count": null,
   "id": "b57896e6",
   "metadata": {},
   "outputs": [],
   "source": [
    "# Load the audio file to predict its class\n",
    "audio_file = 'mixkit-ambulance-siren-passing-by-1650.wav'\n",
    "audio_features = extract_features(audio_file)\n",
    "\n",
    "# Reshape the audio features to match the shape expected by the classifier\n",
    "audio_features = audio_features.reshape(1, -1)\n",
    "\n",
    "# Predict the class of the audio file\n",
    "predicted_class = knn14.predict(audio_features)[0]\n",
    "print(\"Predicted class:\", predicted_class)"
   ]
  },
  {
   "cell_type": "markdown",
   "id": "a62d2fcd",
   "metadata": {},
   "source": [
    "# Using KNN, Neighbours =  5 Metric = chebyshev"
   ]
  },
  {
   "cell_type": "code",
   "execution_count": null,
   "id": "605d400b",
   "metadata": {},
   "outputs": [],
   "source": [
    "# Perform classification using KNN, metric = euclidean , neighbors = 5\n",
    "knn15 = KNeighborsClassifier(n_neighbors=5, metric='chebyshev')\n",
    "knn15.fit(X_train, y_train)"
   ]
  },
  {
   "cell_type": "code",
   "execution_count": null,
   "id": "aecb6d66",
   "metadata": {},
   "outputs": [],
   "source": [
    "# Make predictions on the test set\n",
    "y_pred = knn15.predict(X_test)"
   ]
  },
  {
   "cell_type": "code",
   "execution_count": null,
   "id": "b2ed35dc",
   "metadata": {},
   "outputs": [],
   "source": [
    "# Calculate and print the classification matrix\n",
    "conf_matrix = confusion_matrix(y_test, y_pred)\n",
    "print(\"Classification Matrix:\")\n",
    "print(conf_matrix)"
   ]
  },
  {
   "cell_type": "code",
   "execution_count": null,
   "id": "a3a0f10a",
   "metadata": {},
   "outputs": [],
   "source": [
    "# Calculate and print the accuracy\n",
    "accuracy = accuracy_score(y_test, y_pred)\n",
    "print(\"Accuracy:\", accuracy)"
   ]
  },
  {
   "cell_type": "code",
   "execution_count": null,
   "id": "7c5dbef9",
   "metadata": {},
   "outputs": [],
   "source": [
    "# Load the audio file to predict its class\n",
    "audio_file = 'mixkit-ambulance-siren-passing-by-1650.wav'\n",
    "audio_features = extract_features(audio_file)\n",
    "\n",
    "# Reshape the audio features to match the shape expected by the classifier\n",
    "audio_features = audio_features.reshape(1, -1)\n",
    "\n",
    "# Predict the class of the audio file\n",
    "predicted_class = knn15.predict(audio_features)[0]\n",
    "print(\"Predicted class:\", predicted_class)"
   ]
  },
  {
   "cell_type": "markdown",
   "id": "bbd16a81",
   "metadata": {},
   "source": [
    "# Using KNN, Neighbours =  6 Metric = cosine"
   ]
  },
  {
   "cell_type": "code",
   "execution_count": null,
   "id": "d1595450",
   "metadata": {},
   "outputs": [],
   "source": [
    "# Perform classification using KNN, metric = cosine , neighbors = 6\n",
    "knn16 = KNeighborsClassifier(n_neighbors=6, metric='cosine')\n",
    "knn16.fit(X_train, y_train)"
   ]
  },
  {
   "cell_type": "code",
   "execution_count": null,
   "id": "131144f5",
   "metadata": {},
   "outputs": [],
   "source": [
    "# Make predictions on the test set\n",
    "y_pred = knn16.predict(X_test)"
   ]
  },
  {
   "cell_type": "code",
   "execution_count": null,
   "id": "f0dd722a",
   "metadata": {},
   "outputs": [],
   "source": [
    "# Calculate and print the classification matrix\n",
    "conf_matrix = confusion_matrix(y_test, y_pred)\n",
    "print(\"Classification Matrix:\")\n",
    "print(conf_matrix)"
   ]
  },
  {
   "cell_type": "code",
   "execution_count": null,
   "id": "c5610821",
   "metadata": {},
   "outputs": [],
   "source": [
    "# Calculate and print the accuracy\n",
    "accuracy = accuracy_score(y_test, y_pred)\n",
    "print(\"Accuracy:\", accuracy)"
   ]
  },
  {
   "cell_type": "code",
   "execution_count": null,
   "id": "a61c1dad",
   "metadata": {},
   "outputs": [],
   "source": [
    "# Load the audio file to predict its class\n",
    "audio_file = 'mixkit-ambulance-siren-passing-by-1650.wav'\n",
    "audio_features = extract_features(audio_file)\n",
    "\n",
    "# Reshape the audio features to match the shape expected by the classifier\n",
    "audio_features = audio_features.reshape(1, -1)\n",
    "\n",
    "# Predict the class of the audio file\n",
    "predicted_class = knn16.predict(audio_features)[0]\n",
    "print(\"Predicted class:\", predicted_class)"
   ]
  },
  {
   "cell_type": "markdown",
   "id": "beb5745e",
   "metadata": {},
   "source": [
    "# Using KNN, Neighbours =  6 Metric = euclidean"
   ]
  },
  {
   "cell_type": "code",
   "execution_count": null,
   "id": "8160f949",
   "metadata": {},
   "outputs": [],
   "source": [
    "# Perform classification using KNN, metric = euclidean, neighbors = 6\n",
    "knn17 = KNeighborsClassifier(n_neighbors=6, metric='euclidean')\n",
    "knn17.fit(X_train, y_train)"
   ]
  },
  {
   "cell_type": "code",
   "execution_count": null,
   "id": "b1c705d2",
   "metadata": {},
   "outputs": [],
   "source": [
    "# Make predictions on the test set\n",
    "y_pred = knn17.predict(X_test)"
   ]
  },
  {
   "cell_type": "code",
   "execution_count": null,
   "id": "b98105fc",
   "metadata": {},
   "outputs": [],
   "source": [
    "# Calculate and print the classification matrix\n",
    "conf_matrix = confusion_matrix(y_test, y_pred)\n",
    "print(\"Classification Matrix:\")\n",
    "print(conf_matrix)"
   ]
  },
  {
   "cell_type": "code",
   "execution_count": null,
   "id": "3c98874a",
   "metadata": {},
   "outputs": [],
   "source": [
    "# Calculate and print the accuracy\n",
    "accuracy = accuracy_score(y_test, y_pred)\n",
    "print(\"Accuracy:\", accuracy)"
   ]
  },
  {
   "cell_type": "code",
   "execution_count": null,
   "id": "9e52b4e4",
   "metadata": {},
   "outputs": [],
   "source": [
    "# Load the audio file to predict its class\n",
    "audio_file = 'mixkit-ambulance-siren-passing-by-1650.wav'\n",
    "audio_features = extract_features(audio_file)\n",
    "\n",
    "# Reshape the audio features to match the shape expected by the classifier\n",
    "audio_features = audio_features.reshape(1, -1)\n",
    "\n",
    "# Predict the class of the audio file\n",
    "predicted_class = knn17.predict(audio_features)[0]\n",
    "print(\"Predicted class:\", predicted_class)"
   ]
  },
  {
   "cell_type": "markdown",
   "id": "e8da1f8f",
   "metadata": {},
   "source": [
    "# Using KNN, Neighbours =  6 Metric = chebyshev"
   ]
  },
  {
   "cell_type": "code",
   "execution_count": null,
   "id": "cd04a5b1",
   "metadata": {},
   "outputs": [],
   "source": [
    "# Perform classification using KNN, metric = chebyshev , neighbors = 6\n",
    "knn18 = KNeighborsClassifier(n_neighbors=6, metric='chebyshev')\n",
    "knn18.fit(X_train, y_train)"
   ]
  },
  {
   "cell_type": "code",
   "execution_count": null,
   "id": "95bd80af",
   "metadata": {},
   "outputs": [],
   "source": [
    "# Make predictions on the test set\n",
    "y_pred = knn18.predict(X_test)"
   ]
  },
  {
   "cell_type": "code",
   "execution_count": null,
   "id": "40116c22",
   "metadata": {},
   "outputs": [],
   "source": [
    "# Calculate and print the classification matrix\n",
    "conf_matrix = confusion_matrix(y_test, y_pred)\n",
    "print(\"Classification Matrix:\")\n",
    "print(conf_matrix)"
   ]
  },
  {
   "cell_type": "code",
   "execution_count": null,
   "id": "096cdae1",
   "metadata": {},
   "outputs": [],
   "source": [
    "# Calculate and print the accuracy\n",
    "accuracy = accuracy_score(y_test, y_pred)\n",
    "print(\"Accuracy:\", accuracy)"
   ]
  },
  {
   "cell_type": "code",
   "execution_count": null,
   "id": "cfc2ba56",
   "metadata": {},
   "outputs": [],
   "source": [
    "# Load the audio file to predict its class\n",
    "audio_file = 'mixkit-ambulance-siren-passing-by-1650.wav'\n",
    "audio_features = extract_features(audio_file)\n",
    "\n",
    "# Reshape the audio features to match the shape expected by the classifier\n",
    "audio_features = audio_features.reshape(1, -1)\n",
    "\n",
    "# Predict the class of the audio file\n",
    "predicted_class = knn18.predict(audio_features)[0]\n",
    "print(\"Predicted class:\", predicted_class)"
   ]
  },
  {
   "cell_type": "markdown",
   "id": "a665c717",
   "metadata": {},
   "source": [
    "# SVM - RBF kernel"
   ]
  },
  {
   "cell_type": "code",
   "execution_count": null,
   "id": "694d3767",
   "metadata": {},
   "outputs": [],
   "source": [
    "# Perform classification using Support Vector Machines (SVM) with adjusted parameters\n",
    "svm1 = SVC(kernel='rbf', C=100, gamma='scale', random_state=42)\n",
    "svm1.fit(X_train, y_train)"
   ]
  },
  {
   "cell_type": "code",
   "execution_count": null,
   "id": "265ebf9c",
   "metadata": {},
   "outputs": [],
   "source": [
    "# Make predictions on the test set\n",
    "y_pred = svm1.predict(X_test)"
   ]
  },
  {
   "cell_type": "code",
   "execution_count": null,
   "id": "0738b3f8",
   "metadata": {
    "scrolled": true
   },
   "outputs": [],
   "source": [
    "# Calculate and print the classification matrix\n",
    "conf_matrix = confusion_matrix(y_test, y_pred)\n",
    "print(\"Classification Matrix:\")\n",
    "print(conf_matrix)"
   ]
  },
  {
   "cell_type": "code",
   "execution_count": null,
   "id": "6b9c4452",
   "metadata": {},
   "outputs": [],
   "source": [
    "# Calculate and print the accuracy\n",
    "accuracy = accuracy_score(y_test, y_pred)\n",
    "print(\"Accuracy:\", accuracy)"
   ]
  },
  {
   "cell_type": "code",
   "execution_count": null,
   "id": "7feb4143",
   "metadata": {},
   "outputs": [],
   "source": [
    "# Load the audio file to predict its class\n",
    "audio_file = 'mixkit-ambulance-siren-passing-by-1650.wav'\n",
    "audio_features = extract_features(audio_file)\n",
    "\n",
    "# Reshape the audio features to match the shape expected by the classifier\n",
    "audio_features = audio_features.reshape(1, -1)\n",
    "\n",
    "# Predict the class of the audio file\n",
    "predicted_class = svm1.predict(audio_features)[0]\n",
    "print(\"Predicted class:\", predicted_class)"
   ]
  },
  {
   "cell_type": "markdown",
   "id": "beab0eb5",
   "metadata": {},
   "source": [
    "# SVM - Linear Kernel"
   ]
  },
  {
   "cell_type": "code",
   "execution_count": null,
   "id": "97ec5e85",
   "metadata": {},
   "outputs": [],
   "source": [
    "# Perform classification using Support Vector Machines (SVM) with adjusted parameters\n",
    "svm2 = SVC(kernel=\"linear\", C=100, gamma='scale', random_state=42)\n",
    "svm2.fit(X_train, y_train)"
   ]
  },
  {
   "cell_type": "code",
   "execution_count": null,
   "id": "13175e8a",
   "metadata": {},
   "outputs": [],
   "source": [
    "# Make predictions on the test set\n",
    "y_pred = svm2.predict(X_test)"
   ]
  },
  {
   "cell_type": "code",
   "execution_count": null,
   "id": "7b3b2e10",
   "metadata": {},
   "outputs": [],
   "source": [
    "# Calculate and print the classification matrix\n",
    "conf_matrix = confusion_matrix(y_test, y_pred)\n",
    "print(\"Classification Matrix:\")\n",
    "print(conf_matrix)"
   ]
  },
  {
   "cell_type": "code",
   "execution_count": null,
   "id": "d52c3bf7",
   "metadata": {},
   "outputs": [],
   "source": [
    "# Calculate and print the accuracy\n",
    "accuracy = accuracy_score(y_test, y_pred)\n",
    "print(\"Accuracy:\", accuracy)"
   ]
  },
  {
   "cell_type": "code",
   "execution_count": null,
   "id": "f694847b",
   "metadata": {},
   "outputs": [],
   "source": [
    "# Load the audio file to predict its class\n",
    "audio_file = 'mixkit-ambulance-siren-passing-by-1650.wav'\n",
    "audio_features = extract_features(audio_file)\n",
    "\n",
    "# Reshape the audio features to match the shape expected by the classifier\n",
    "audio_features = audio_features.reshape(1, -1)\n",
    "\n",
    "# Predict the class of the audio file\n",
    "predicted_class = svm2.predict(audio_features)[0]\n",
    "print(\"Predicted class:\", predicted_class)"
   ]
  },
  {
   "cell_type": "markdown",
   "id": "4395a5a0",
   "metadata": {},
   "source": [
    "# Random Forest Classifier "
   ]
  },
  {
   "cell_type": "code",
   "execution_count": null,
   "id": "ac7a6ce6",
   "metadata": {},
   "outputs": [],
   "source": [
    "rfc = RandomForestClassifier(n_estimators=100, max_depth=10, random_state=42)\n",
    "rfc.fit(X_train, y_train)"
   ]
  },
  {
   "cell_type": "code",
   "execution_count": null,
   "id": "5f306e68",
   "metadata": {},
   "outputs": [],
   "source": [
    "# Make predictions on the test set\n",
    "y_pred = rfc.predict(X_test)"
   ]
  },
  {
   "cell_type": "code",
   "execution_count": null,
   "id": "39d6c72b",
   "metadata": {},
   "outputs": [],
   "source": [
    "# Calculate and print the classification matrix\n",
    "conf_matrix = confusion_matrix(y_test, y_pred)\n",
    "print(\"Classification Matrix:\")\n",
    "print(conf_matrix)"
   ]
  },
  {
   "cell_type": "code",
   "execution_count": null,
   "id": "2972dc61",
   "metadata": {},
   "outputs": [],
   "source": [
    "# Calculate and print the accuracy\n",
    "accuracy = accuracy_score(y_test, y_pred)\n",
    "print(\"Accuracy:\", accuracy)"
   ]
  },
  {
   "cell_type": "code",
   "execution_count": null,
   "id": "56b5626e",
   "metadata": {},
   "outputs": [],
   "source": [
    "# Load the audio file to predict its class\n",
    "audio_file = 'mixkit-ambulance-siren-passing-by-1650.wav'\n",
    "audio_features = extract_features(audio_file)\n",
    "\n",
    "# Reshape the audio features to match the shape expected by the classifier\n",
    "audio_features = audio_features.reshape(1, -1)\n",
    "\n",
    "# Predict the class of the audio file\n",
    "predicted_class = rfc.predict(audio_features)[0]\n",
    "print(\"Predicted class:\", predicted_class)"
   ]
  },
  {
   "cell_type": "markdown",
   "id": "72c19f4d",
   "metadata": {},
   "source": [
    "# Random Forest Classifier with extra parameters"
   ]
  },
  {
   "cell_type": "code",
   "execution_count": null,
   "id": "e3902c98",
   "metadata": {},
   "outputs": [],
   "source": [
    "rfc1 = RandomForestClassifier(n_estimators=300, max_depth=50, min_samples_split=2, min_samples_leaf=1, random_state=42)\n",
    "rfc1.fit(X_train, y_train)"
   ]
  },
  {
   "cell_type": "code",
   "execution_count": null,
   "id": "ca6850df",
   "metadata": {},
   "outputs": [],
   "source": [
    "# Make predictions on the test set\n",
    "y_pred = rfc1.predict(X_test)"
   ]
  },
  {
   "cell_type": "code",
   "execution_count": null,
   "id": "50ddd725",
   "metadata": {},
   "outputs": [],
   "source": [
    "# Calculate and print the classification matrix\n",
    "conf_matrix = confusion_matrix(y_test, y_pred)\n",
    "print(\"Classification Matrix:\")\n",
    "print(conf_matrix)"
   ]
  },
  {
   "cell_type": "code",
   "execution_count": null,
   "id": "5ae95772",
   "metadata": {},
   "outputs": [],
   "source": [
    "# Calculate and print the accuracy\n",
    "accuracy = accuracy_score(y_test, y_pred)\n",
    "print(\"Accuracy:\", accuracy)"
   ]
  },
  {
   "cell_type": "code",
   "execution_count": null,
   "id": "c00e668f",
   "metadata": {},
   "outputs": [],
   "source": [
    "# Load the audio file to predict its class\n",
    "audio_file = 'mixkit-ambulance-siren-passing-by-1650.wav'\n",
    "audio_features = extract_features(audio_file)\n",
    "\n",
    "# Reshape the audio features to match the shape expected by the classifier\n",
    "audio_features = audio_features.reshape(1, -1)\n",
    "\n",
    "# Predict the class of the audio file\n",
    "predicted_class = rfc1.predict(audio_features)[0]\n",
    "print(\"Predicted class:\", predicted_class)"
   ]
  },
  {
   "cell_type": "markdown",
   "id": "6fae6a64",
   "metadata": {},
   "source": [
    "# Decision Tree"
   ]
  },
  {
   "cell_type": "code",
   "execution_count": null,
   "id": "7e980f49",
   "metadata": {},
   "outputs": [],
   "source": [
    "# Perform classification using Decision Tree\n",
    "dt1 = DecisionTreeClassifier(random_state=42)\n",
    "dt1.fit(X_train, y_train)"
   ]
  },
  {
   "cell_type": "code",
   "execution_count": null,
   "id": "2657a00c",
   "metadata": {},
   "outputs": [],
   "source": [
    "# Make predictions on the test set\n",
    "y_pred = dt1.predict(X_test)"
   ]
  },
  {
   "cell_type": "code",
   "execution_count": null,
   "id": "9f4b2a30",
   "metadata": {},
   "outputs": [],
   "source": [
    "# Calculate and print the classification matrix\n",
    "conf_matrix = confusion_matrix(y_test, y_pred)\n",
    "print(\"Classification Matrix:\")\n",
    "print(conf_matrix)"
   ]
  },
  {
   "cell_type": "code",
   "execution_count": null,
   "id": "4c80baff",
   "metadata": {},
   "outputs": [],
   "source": [
    "# Calculate and print the accuracy\n",
    "accuracy = accuracy_score(y_test, y_pred)\n",
    "print(\"Accuracy:\", accuracy)"
   ]
  },
  {
   "cell_type": "code",
   "execution_count": null,
   "id": "7b987f13",
   "metadata": {},
   "outputs": [],
   "source": [
    "# Load the audio file to predict its class\n",
    "audio_file = 'mixkit-horde-of-barking-dogs-60.wav'\n",
    "audio_features = extract_features(audio_file)\n",
    "\n",
    "# Reshape the audio features to match the shape expected by the classifier\n",
    "audio_features = audio_features.reshape(1, -1)\n",
    "\n",
    "# Predict the class of the audio file\n",
    "predicted_class = dt1.predict(audio_features)[0]\n",
    "print(\"Predicted class:\", predicted_class)"
   ]
  },
  {
   "cell_type": "markdown",
   "id": "1c420188",
   "metadata": {},
   "source": [
    "# ANN - optimizer - adam"
   ]
  },
  {
   "cell_type": "code",
   "execution_count": null,
   "id": "cc6dece9",
   "metadata": {},
   "outputs": [],
   "source": [
    "# Convert features and labels to numpy arrays\n",
    "X = np.array(features)\n",
    "y = np.array(labels)"
   ]
  },
  {
   "cell_type": "code",
   "execution_count": null,
   "id": "07d1f188",
   "metadata": {},
   "outputs": [],
   "source": [
    "# Normalize the input features\n",
    "X = (X - np.mean(X)) / np.std(X)"
   ]
  },
  {
   "cell_type": "code",
   "execution_count": null,
   "id": "b2c24531",
   "metadata": {},
   "outputs": [],
   "source": [
    "# Convert labels to categorical\n",
    "y = to_categorical(y)"
   ]
  },
  {
   "cell_type": "code",
   "execution_count": null,
   "id": "822353d0",
   "metadata": {},
   "outputs": [],
   "source": [
    "# Split the data into training and testing sets\n",
    "X_train, X_test, y_train, y_test = train_test_split(X, y, test_size=0.2, random_state=42)"
   ]
  },
  {
   "cell_type": "code",
   "execution_count": null,
   "id": "8b7ccc16",
   "metadata": {},
   "outputs": [],
   "source": [
    "class_labels = ['air_conditioner', 'car_horn', 'children_playing', 'dog_bark', 'drilling', 'engine_idling', 'gun_shot', 'jackhammer', 'siren', 'street_music']"
   ]
  },
  {
   "cell_type": "code",
   "execution_count": null,
   "id": "c5e678a9",
   "metadata": {},
   "outputs": [],
   "source": [
    "# Build the ANN model\n",
    "model = Sequential()\n",
    "model.add(Dense(512, activation='relu', input_shape=(X_train.shape[1],)))\n",
    "model.add(Dense(256, activation='relu'))\n",
    "model.add(Dense(128, activation='relu'))\n",
    "model.add(Dense(len(class_labels), activation='softmax'))"
   ]
  },
  {
   "cell_type": "code",
   "execution_count": null,
   "id": "62cfbc53",
   "metadata": {},
   "outputs": [],
   "source": [
    "# Compile the model\n",
    "model.compile(loss='categorical_crossentropy', optimizer='adam', metrics=['accuracy'])"
   ]
  },
  {
   "cell_type": "code",
   "execution_count": null,
   "id": "32a74f21",
   "metadata": {},
   "outputs": [],
   "source": [
    "# Train the model\n",
    "model.fit(X_train, y_train, batch_size=64, epochs=30, validation_data=(X_test, y_test))"
   ]
  },
  {
   "cell_type": "code",
   "execution_count": null,
   "id": "69285566",
   "metadata": {},
   "outputs": [],
   "source": [
    "# Evaluate the model on the test set\n",
    "loss, accuracy = model.evaluate(X_test, y_test, verbose=0)\n",
    "print(\"Test Loss:\", loss)\n",
    "print(\"Test Accuracy:\", accuracy)"
   ]
  }
 ],
 "metadata": {
  "kernelspec": {
   "display_name": "Python 3 (ipykernel)",
   "language": "python",
   "name": "python3"
  },
  "language_info": {
   "codemirror_mode": {
    "name": "ipython",
    "version": 3
   },
   "file_extension": ".py",
   "mimetype": "text/x-python",
   "name": "python",
   "nbconvert_exporter": "python",
   "pygments_lexer": "ipython3",
   "version": "3.11.4"
  }
 },
 "nbformat": 4,
 "nbformat_minor": 5
}
